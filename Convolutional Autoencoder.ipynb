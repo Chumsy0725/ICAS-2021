{
 "cells": [
  {
   "cell_type": "code",
   "execution_count": 3,
   "id": "3669716a",
   "metadata": {},
   "outputs": [],
   "source": [
    "import tensorflow as tf"
   ]
  },
  {
   "cell_type": "code",
   "execution_count": 4,
   "id": "a0151a91",
   "metadata": {},
   "outputs": [],
   "source": [
    "from tensorflow import keras\n",
    "from tensorflow.keras.models import Sequential\n",
    "from tensorflow.keras.layers import Dense,Flatten,Conv2D,MaxPooling2D,LSTM,RepeatVector,BatchNormalization,Conv2DTranspose,Reshape,Dense,TimeDistributed\n",
    "import matplotlib.pyplot as plt\n",
    "import numpy as np\n",
    "import cv2 as cv"
   ]
  },
  {
   "cell_type": "code",
   "execution_count": 47,
   "id": "c67e05a9",
   "metadata": {},
   "outputs": [],
   "source": [
    "Img=[]\n",
    "for i in range (9):\n",
    "     if i<=8:\n",
    "        img=cv.imread('D:/ICAS2021/02_icab1_reverse_fail_overtaking0_2021-03-26-14-40-28_0_back_camera/0000'+str(i+1)+'.jpeg',0)\n",
    "        img= cv.resize(img,(128,128), interpolation = cv.INTER_AREA)\n",
    "     elif 9<=i<=98:\n",
    "        img=cv.imread('D:/ICAS2021/02_icab1_reverse_fail_overtaking0_2021-03-26-14-40-28_0_back_camera/000'+str(i+1)+'.jpeg',0)\n",
    "        img= cv.resize(img,(128,128), interpolation = cv.INTER_AREA) \n",
    "     else:\n",
    "        img=cv.imread('D:/ICAS2021/02_icab1_reverse_fail_overtaking0_2021-03-26-14-40-28_0_back_camera/00'+str(i+1)+'.jpeg',0)\n",
    "        img= cv.resize(img,(128,128), interpolation = cv.INTER_AREA)\n",
    "     img= img.reshape((128,128, 1)) \n",
    "     Img.append(img/255.0)\n",
    "Img=np.array(Img,dtype='uint8')"
   ]
  },
  {
   "cell_type": "code",
   "execution_count": 62,
   "id": "67c6e018",
   "metadata": {},
   "outputs": [],
   "source": [
    "model= Sequential()\n",
    "model.add(Conv2D(32, (3,3), activation='relu',padding='same', input_shape=(128,128,1)))\n",
    "model.add(MaxPooling2D(pool_size=(2,2)))\n",
    "model.add(Conv2D(32, (3, 3), activation='relu',padding='same'))\n",
    "model.add(MaxPooling2D(pool_size=(2,2)))\n",
    "model.add(Conv2D(64, (3, 3), activation='relu',padding='same'))\n",
    "model.add(MaxPooling2D(pool_size=(2,2)))\n",
    "model.add(Conv2D(64, (3, 3), activation='relu',padding='same'))\n",
    "model.add(MaxPooling2D(pool_size=(2,2)))\n",
    "f=model.add(Flatten())\n",
    "model.add(Reshape((8,8,64)))\n",
    "model.add(Conv2DTranspose(64, (3,3), strides=2,activation='relu',padding='same'))\n",
    "model.add(BatchNormalization())\n",
    "model.add(Conv2DTranspose(64, (3,3), strides=2,activation='relu',padding='same'))\n",
    "model.add(BatchNormalization())\n",
    "model.add(Conv2DTranspose(32, (3,3), strides=2,activation='relu',padding='same'))\n",
    "model.add(BatchNormalization())\n",
    "model.add(Conv2DTranspose(32, (3,3), strides=2,activation='relu',padding='same'))\n",
    "model.add(BatchNormalization())\n",
    "model.add(Conv2D(1, (3, 3), activation='sigmoid',padding='same'))\n"
   ]
  },
  {
   "cell_type": "code",
   "execution_count": 63,
   "id": "f20b7cf2",
   "metadata": {},
   "outputs": [
    {
     "name": "stdout",
     "output_type": "stream",
     "text": [
      "Model: \"sequential_21\"\n",
      "_________________________________________________________________\n",
      "Layer (type)                 Output Shape              Param #   \n",
      "=================================================================\n",
      "conv2d_116 (Conv2D)          (None, 128, 128, 32)      320       \n",
      "_________________________________________________________________\n",
      "max_pooling2d_102 (MaxPoolin (None, 64, 64, 32)        0         \n",
      "_________________________________________________________________\n",
      "conv2d_117 (Conv2D)          (None, 64, 64, 32)        9248      \n",
      "_________________________________________________________________\n",
      "max_pooling2d_103 (MaxPoolin (None, 32, 32, 32)        0         \n",
      "_________________________________________________________________\n",
      "conv2d_118 (Conv2D)          (None, 32, 32, 64)        18496     \n",
      "_________________________________________________________________\n",
      "max_pooling2d_104 (MaxPoolin (None, 16, 16, 64)        0         \n",
      "_________________________________________________________________\n",
      "conv2d_119 (Conv2D)          (None, 16, 16, 64)        36928     \n",
      "_________________________________________________________________\n",
      "max_pooling2d_105 (MaxPoolin (None, 8, 8, 64)          0         \n",
      "_________________________________________________________________\n",
      "flatten_12 (Flatten)         (None, 4096)              0         \n",
      "_________________________________________________________________\n",
      "reshape_10 (Reshape)         (None, 8, 8, 64)          0         \n",
      "_________________________________________________________________\n",
      "conv2d_transpose_60 (Conv2DT (None, 16, 16, 64)        36928     \n",
      "_________________________________________________________________\n",
      "batch_normalization_60 (Batc (None, 16, 16, 64)        256       \n",
      "_________________________________________________________________\n",
      "conv2d_transpose_61 (Conv2DT (None, 32, 32, 64)        36928     \n",
      "_________________________________________________________________\n",
      "batch_normalization_61 (Batc (None, 32, 32, 64)        256       \n",
      "_________________________________________________________________\n",
      "conv2d_transpose_62 (Conv2DT (None, 64, 64, 32)        18464     \n",
      "_________________________________________________________________\n",
      "batch_normalization_62 (Batc (None, 64, 64, 32)        128       \n",
      "_________________________________________________________________\n",
      "conv2d_transpose_63 (Conv2DT (None, 128, 128, 32)      9248      \n",
      "_________________________________________________________________\n",
      "batch_normalization_63 (Batc (None, 128, 128, 32)      128       \n",
      "_________________________________________________________________\n",
      "conv2d_120 (Conv2D)          (None, 128, 128, 1)       289       \n",
      "=================================================================\n",
      "Total params: 167,617\n",
      "Trainable params: 167,233\n",
      "Non-trainable params: 384\n",
      "_________________________________________________________________\n"
     ]
    }
   ],
   "source": [
    "model.summary()"
   ]
  },
  {
   "cell_type": "code",
   "execution_count": null,
   "id": "b40c4de9",
   "metadata": {},
   "outputs": [],
   "source": [
    "model.compile(optimizer='adam',loss=\"mse\")\n",
    "history = model.fit(Img,Img,epochs=100,batch_size=50)"
   ]
  }
 ],
 "metadata": {
  "kernelspec": {
   "display_name": "Python 3",
   "language": "python",
   "name": "python3"
  },
  "language_info": {
   "codemirror_mode": {
    "name": "ipython",
    "version": 3
   },
   "file_extension": ".py",
   "mimetype": "text/x-python",
   "name": "python",
   "nbconvert_exporter": "python",
   "pygments_lexer": "ipython3",
   "version": "3.8.10"
  }
 },
 "nbformat": 4,
 "nbformat_minor": 5
}